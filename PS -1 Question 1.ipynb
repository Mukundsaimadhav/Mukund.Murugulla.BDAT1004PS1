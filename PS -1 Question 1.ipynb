{
 "cells": [
  {
   "cell_type": "markdown",
   "id": "b99184ca",
   "metadata": {},
   "source": [
    "5 - int,\n",
    "5.0 - float,\n",
    "5>1 - boolean,\n",
    "'5' - Char,\n",
    "5*2 - int,\n",
    "'5'*2 - int,\n",
    "'5'+'2' - int,\n",
    "5/2 - int, \n",
    "5%2 - int, \n",
    "{5,2,1} - int,\n",
    "5==3 - boolean,\n",
    "pi - double "
   ]
  }
 ],
 "metadata": {
  "kernelspec": {
   "display_name": ".NET (C#)",
   "language": "C#",
   "name": ".net-csharp"
  },
  "language_info": {
   "file_extension": ".cs",
   "mimetype": "text/x-csharp",
   "name": "C#",
   "pygments_lexer": "csharp",
   "version": "8.0"
  }
 },
 "nbformat": 4,
 "nbformat_minor": 5
}
