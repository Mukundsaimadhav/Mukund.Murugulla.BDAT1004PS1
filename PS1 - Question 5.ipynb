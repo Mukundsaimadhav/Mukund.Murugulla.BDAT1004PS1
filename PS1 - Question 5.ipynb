{
 "cells": [
  {
   "cell_type": "code",
   "execution_count": null,
   "id": "5346ee3e",
   "metadata": {},
   "outputs": [],
   "source": [
    "using System;\n",
    "public class Program\n",
    "{\n",
    "    public static void Main()\n",
    "    {\n",
    "        Console.WriteLine(inside(-1, -1, 0, 0, 2, 3)); Console.WriteLine(inside(1, 1, 0.3, 0.5, 1.1, 0.7)); Console.WriteLine(inside(1, 1, 0.5, 0.2, 1.1, 2));\n",
    "    }\n",
    "    public static bool inside(double x, double y, double x1, double y1, double x2, double y2)\n",
    "    {\n",
    "        if ((x > x1) && (x < x2))\n",
    "        {\n",
    "            if ((y > y1) && (y < y2))\n",
    "            {\n",
    "                return true;\n",
    "            }\n",
    "            else\n",
    "            {\n",
    "                return false;\n",
    "            }\n",
    "        }\n",
    "        else\n",
    "        {\n",
    "            return false;\n",
    "        }\n",
    "    }\n",
    "}"
   ]
  }
 ],
 "metadata": {
  "kernelspec": {
   "display_name": ".NET (C#)",
   "language": "C#",
   "name": ".net-csharp"
  },
  "language_info": {
   "file_extension": ".cs",
   "mimetype": "text/x-csharp",
   "name": "C#",
   "pygments_lexer": "csharp",
   "version": "8.0"
  }
 },
 "nbformat": 4,
 "nbformat_minor": 5
}
