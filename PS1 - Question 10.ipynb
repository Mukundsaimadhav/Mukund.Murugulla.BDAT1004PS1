{
 "cells": [
  {
   "cell_type": "code",
   "execution_count": 1,
   "id": "ef6d819e",
   "metadata": {},
   "outputs": [
    {
     "name": "stdout",
     "output_type": "stream",
     "text": [
      "[1, 1, 1, 3, 5, 1, 1, 2, 1, 0, 1, 0, 1, 2, 4, 0, 1, 2, 0, 2, 1, 0, 1, 1, 0, 0]\n",
      "true\n"
     ]
    }
   ],
   "source": [
    "def frequencies(message):\n",
    "    counts=[]\n",
    "    test=[1, 1, 1, 3, 5, 1, 1, 2, 1, 0, 1, 0, 1, 2, 4, 0, 1, 2, 0, 2,\n",
    "1, 0, 1, 1, 0, 0]\n",
    "    letters='abcdefghijklmnopqrstuvwxyz'\n",
    "    for letter  in letters:\n",
    "        count=0\n",
    "        for alphabet in message:\n",
    "            if(letter==alphabet):\n",
    "                count=count+1\n",
    "        counts.append(count)\n",
    "    print(counts)\n",
    "    if counts==test:\n",
    "        print('true')\n",
    "frequencies('The quick red fox got bored and went home.')"
   ]
  },
  {
   "cell_type": "code",
   "execution_count": null,
   "id": "a6b4e689",
   "metadata": {},
   "outputs": [],
   "source": []
  }
 ],
 "metadata": {
  "kernelspec": {
   "display_name": "Python 3",
   "language": "python",
   "name": "python3"
  },
  "language_info": {
   "codemirror_mode": {
    "name": "ipython",
    "version": 3
   },
   "file_extension": ".py",
   "mimetype": "text/x-python",
   "name": "python",
   "nbconvert_exporter": "python",
   "pygments_lexer": "ipython3",
   "version": "3.8.8"
  }
 },
 "nbformat": 4,
 "nbformat_minor": 5
}
