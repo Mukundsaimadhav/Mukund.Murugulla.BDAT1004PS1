{
 "cells": [
  {
   "cell_type": "markdown",
   "id": "2672dbbb",
   "metadata": {},
   "source": [
    "using System;\n",
    "public class Program\n",
    "{\n",
    "    public static void Main()\n",
    "    {\n",
    "        string s1 = \"Supercalifragilisticexpialidocious\";\n",
    "        string s2 = \"Honorificabilitudinitatibus\";\n",
    "        string s3 = \"Bababadalgharaghtakamminarronnkonn\";\n",
    "        if (s1.Length > s2.Length)\n",
    "        {\n",
    "            if (s1.Length > s3.Length)\n",
    "            {\n",
    "                Console.WriteLine(s1);\n",
    "            }\n",
    "            else\n",
    "            {\n",
    "                Console.WriteLine(s3);\n",
    "            }\n",
    "        }\n",
    "        else\n",
    "        {\n",
    "            if (s2.Length > s3.Length)\n",
    "            {\n",
    "                Console.WriteLine(s2);\n",
    "            }\n",
    "            else\n",
    "            {\n",
    "                Console.WriteLine(s3);\n",
    "            }\n",
    "        }\n",
    "\n",
    "    }\n",
    "}\n"
   ]
  }
 ],
 "metadata": {
  "kernelspec": {
   "display_name": ".NET (C#)",
   "language": "C#",
   "name": ".net-csharp"
  },
  "language_info": {
   "file_extension": ".cs",
   "mimetype": "text/x-csharp",
   "name": "C#",
   "pygments_lexer": "csharp",
   "version": "8.0"
  }
 },
 "nbformat": 4,
 "nbformat_minor": 5
}
