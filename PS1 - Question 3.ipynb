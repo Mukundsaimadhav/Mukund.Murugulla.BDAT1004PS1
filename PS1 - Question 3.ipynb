{
 "cells": [
  {
   "cell_type": "code",
   "execution_count": null,
   "id": "5cb9708b",
   "metadata": {},
   "outputs": [],
   "source": [
    "using System;\n",
    "public class Program\n",
    "{\n",
    "    public static void Main()\n",
    "    {\n",
    "        Console.WriteLine(\"Hello World\"); Console.WriteLine(triangleArea(2, 2, 2));\n",
    "    }\n",
    "public static double triangleArea(double a, double b, double c)\n",
    "{\n",
    "    double s = (a + b + c) / 2;\n",
    "    double area = Math.Sqrt((s * (s - a) * (s - b) * (s - c))); return area;\n",
    "} }\n"
   ]
  }
 ],
 "metadata": {
  "kernelspec": {
   "display_name": ".NET (C#)",
   "language": "C#",
   "name": ".net-csharp"
  },
  "language_info": {
   "file_extension": ".cs",
   "mimetype": "text/x-csharp",
   "name": "C#",
   "pygments_lexer": "csharp",
   "version": "8.0"
  }
 },
 "nbformat": 4,
 "nbformat_minor": 5
}
