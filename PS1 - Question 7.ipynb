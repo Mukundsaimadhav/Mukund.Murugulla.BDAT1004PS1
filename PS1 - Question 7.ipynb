{
 "cells": [
  {
   "cell_type": "code",
   "execution_count": 8,
   "id": "37e9f5d6",
   "metadata": {},
   "outputs": [
    {
     "name": "stdout",
     "output_type": "stream",
     "text": [
      "There are 15 patient of blood type A\n",
      "There is one patient of blood type B\n",
      "There are 13 patient of blood type AB\n",
      "There are 15 patient of blood type O\n",
      "There are no patient of blood type OO\n"
     ]
    }
   ],
   "source": [
    "def bldcount(file_name):\n",
    "    count=0\n",
    "    bloodtypes=['A','B','AB','O','OO']\n",
    "    with open(file_name,'r') as contents :\n",
    "        content= contents.read()\n",
    "    data= content.split()\n",
    "    for bloodtype in bloodtypes:\n",
    "        count= data.count(bloodtype)\n",
    "        if count==0:\n",
    "            print(\"There are no patient of blood type \"+bloodtype)\n",
    "        elif count==1:\n",
    "            print(\"There is one patient of blood type \"+bloodtype)\n",
    "        \n",
    "        else :\n",
    "            print(\"There are \"+ str(count)+\" patient of blood type \"+bloodtype)\n",
    "bldcount('bloodtype1.txt')"
   ]
  },
  {
   "cell_type": "code",
   "execution_count": null,
   "id": "6dfac1c2",
   "metadata": {},
   "outputs": [],
   "source": []
  },
  {
   "cell_type": "code",
   "execution_count": null,
   "id": "63e57ea0",
   "metadata": {},
   "outputs": [],
   "source": []
  },
  {
   "cell_type": "code",
   "execution_count": null,
   "id": "8995b92f",
   "metadata": {},
   "outputs": [],
   "source": []
  },
  {
   "cell_type": "code",
   "execution_count": null,
   "id": "71385624",
   "metadata": {},
   "outputs": [],
   "source": []
  },
  {
   "cell_type": "code",
   "execution_count": null,
   "id": "40327bbb",
   "metadata": {},
   "outputs": [],
   "source": []
  },
  {
   "cell_type": "code",
   "execution_count": null,
   "id": "93c2012d",
   "metadata": {},
   "outputs": [],
   "source": []
  }
 ],
 "metadata": {
  "kernelspec": {
   "display_name": "Python 3",
   "language": "python",
   "name": "python3"
  },
  "language_info": {
   "codemirror_mode": {
    "name": "ipython",
    "version": 3
   },
   "file_extension": ".py",
   "mimetype": "text/x-python",
   "name": "python",
   "nbconvert_exporter": "python",
   "pygments_lexer": "ipython3",
   "version": "3.8.8"
  }
 },
 "nbformat": 4,
 "nbformat_minor": 5
}
