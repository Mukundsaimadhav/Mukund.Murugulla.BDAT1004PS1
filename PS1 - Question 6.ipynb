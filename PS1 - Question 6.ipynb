{
 "cells": [
  {
   "cell_type": "code",
   "execution_count": 1,
   "id": "02a5f575",
   "metadata": {},
   "outputs": [
    {
     "name": "stdout",
     "output_type": "stream",
     "text": [
      "appyhay\n",
      "appleway\n"
     ]
    }
   ],
   "source": [
    "def pig(s): \n",
    "    s=s.lower()\n",
    "    if ((s[0] =='a')or (s[0] =='e')or (s[0] =='i')or (s[0] =='o')or( s[0] =='u')) :\n",
    "        print(s+'way')\n",
    "        \n",
    "    else :\n",
    "        print (s[1:]+s[0]+'ay')\n",
    "pig(\"happy\")\n",
    "pig(\"apple\")"
   ]
  },
  {
   "cell_type": "code",
   "execution_count": null,
   "id": "1251779e",
   "metadata": {},
   "outputs": [],
   "source": []
  },
  {
   "cell_type": "code",
   "execution_count": null,
   "id": "280e5420",
   "metadata": {},
   "outputs": [],
   "source": []
  }
 ],
 "metadata": {
  "kernelspec": {
   "display_name": "Python 3",
   "language": "python",
   "name": "python3"
  },
  "language_info": {
   "codemirror_mode": {
    "name": "ipython",
    "version": 3
   },
   "file_extension": ".py",
   "mimetype": "text/x-python",
   "name": "python",
   "nbconvert_exporter": "python",
   "pygments_lexer": "ipython3",
   "version": "3.8.8"
  }
 },
 "nbformat": 4,
 "nbformat_minor": 5
}
