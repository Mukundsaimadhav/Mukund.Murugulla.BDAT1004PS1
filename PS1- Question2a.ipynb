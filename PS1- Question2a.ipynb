{
 "cells": [
  {
   "cell_type": "code",
   "execution_count": null,
   "id": "c42c45ae",
   "metadata": {},
   "outputs": [],
   "source": [
    "using System;\n",
    "class program\n",
    "{\n",
    "    static void Main(string[] args)\n",
    "    {\n",
    "        string t = \"Supercalifragilisticexpialidocious\";\n",
    "        Console.WriteLine(\"Letters in string:\" + t.Length);\n",
    "    }\n",
    "}"
   ]
  }
 ],
 "metadata": {
  "kernelspec": {
   "display_name": ".NET (C#)",
   "language": "C#",
   "name": ".net-csharp"
  },
  "language_info": {
   "file_extension": ".cs",
   "mimetype": "text/x-csharp",
   "name": "C#",
   "pygments_lexer": "csharp",
   "version": "8.0"
  }
 },
 "nbformat": 4,
 "nbformat_minor": 5
}
