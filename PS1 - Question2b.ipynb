{
 "cells": [
  {
   "cell_type": "code",
   "execution_count": null,
   "id": "7fd55376",
   "metadata": {},
   "outputs": [],
   "source": [
    "using System;\n",
    "class program\n",
    "{\n",
    "    static void Main(string[] args)\n",
    "    {\n",
    "        string t = \"Supercalifragilisticexpialidocious\";\n",
    "        if (t.Contains(\"ice\"))\n",
    "        {\n",
    "            Console.WriteLine(\"string contains ice as substring\");\n",
    "        }\n",
    "        else\n",
    "        {\n",
    "            Console.WriteLine(\"string doesn't contain ice as substring\");\n",
    "        }\n",
    "    }\n",
    "}"
   ]
  }
 ],
 "metadata": {
  "kernelspec": {
   "display_name": ".NET (C#)",
   "language": "C#",
   "name": ".net-csharp"
  },
  "language_info": {
   "file_extension": ".cs",
   "mimetype": "text/x-csharp",
   "name": "C#",
   "pygments_lexer": "csharp",
   "version": "8.0"
  }
 },
 "nbformat": 4,
 "nbformat_minor": 5
}
