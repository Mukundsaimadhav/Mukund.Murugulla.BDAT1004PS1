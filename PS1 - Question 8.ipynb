{
 "cells": [
  {
   "cell_type": "code",
   "execution_count": 1,
   "id": "13502cd4",
   "metadata": {},
   "outputs": [
    {
     "name": "stdout",
     "output_type": "stream",
     "text": [
      "1.241401\n"
     ]
    }
   ],
   "source": [
    "def curconv(currency, amount):\n",
    "\n",
    "    with open('currencies.txt','r') as contents :\n",
    "        content= contents.readlines()\n",
    "    \n",
    "    for line in content:\n",
    "        words=line.split()\n",
    "        if words[0]==currency:\n",
    "            factor=words[1]\n",
    "            print(float(factor)*amount)\n",
    "    \n",
    "     \n",
    "curconv(\"JPY\",100)"
   ]
  },
  {
   "cell_type": "code",
   "execution_count": null,
   "id": "182952e3",
   "metadata": {},
   "outputs": [],
   "source": []
  }
 ],
 "metadata": {
  "kernelspec": {
   "display_name": "Python 3",
   "language": "python",
   "name": "python3"
  },
  "language_info": {
   "codemirror_mode": {
    "name": "ipython",
    "version": 3
   },
   "file_extension": ".py",
   "mimetype": "text/x-python",
   "name": "python",
   "nbconvert_exporter": "python",
   "pygments_lexer": "ipython3",
   "version": "3.8.8"
  }
 },
 "nbformat": 4,
 "nbformat_minor": 5
}
